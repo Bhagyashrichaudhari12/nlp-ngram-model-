{
  "nbformat": 4,
  "nbformat_minor": 0,
  "metadata": {
    "colab": {
      "provenance": []
    },
    "kernelspec": {
      "name": "python3",
      "display_name": "Python 3"
    },
    "language_info": {
      "name": "python"
    }
  },
  "cells": [
    {
      "cell_type": "code",
      "execution_count": null,
      "metadata": {
        "id": "RRdsstRduzqo"
      },
      "outputs": [],
      "source": [
        "import nltk\n",
        "import numpy as np\n",
        "import random\n",
        "import string\n",
        "import bs4 as bs\n",
        "import urllib.request\n",
        "import re"
      ]
    },
    {
      "cell_type": "code",
      "source": [
        "# Scrap sentences from wikipedia on desired topic\n",
        "raw_html = urllib.request.urlopen('https://en.wikipedia.org/wiki/Deep_learning')\n",
        "raw_html = raw_html.read()"
      ],
      "metadata": {
        "id": "E6SaY_6Su_CU"
      },
      "execution_count": null,
      "outputs": []
    },
    {
      "cell_type": "code",
      "source": [
        "article_html = bs.BeautifulSoup(raw_html, 'lxml')\n",
        "article_paragraphs = article_html.find_all('p') # reading all the paragraphs present on the page \n",
        "article_text = ''"
      ],
      "metadata": {
        "id": "IwcIId77vBTM"
      },
      "execution_count": null,
      "outputs": []
    },
    {
      "cell_type": "code",
      "source": [
        "article_paragraphs # contains all the different paragraphs present on different pages"
      ],
      "metadata": {
        "id": "nigT1RBMvGQr"
      },
      "execution_count": null,
      "outputs": []
    },
    {
      "cell_type": "code",
      "source": [
        "for para in article_paragraphs:\n",
        "  # print(para.text)\n",
        "  article_text += para.text\n",
        "article_text = article_text.lower()\n",
        "print(article_text[:2000]) # combining all individual paras into the one"
      ],
      "metadata": {
        "id": "LfKG3OkDvGN7"
      },
      "execution_count": null,
      "outputs": []
    },
    {
      "cell_type": "code",
      "source": [
        "len(article_text)\n",
        "article_text = re.sub(r'[^A-Za-z. ]', '', article_text) # clearing the text and remaining with only characters,full stop and space."
      ],
      "metadata": {
        "id": "C5mvqP1jvGLB"
      },
      "execution_count": null,
      "outputs": []
    },
    {
      "cell_type": "code",
      "source": [
        "article_text[:1000]"
      ],
      "metadata": {
        "id": "O8o2sHN1vGIU"
      },
      "execution_count": null,
      "outputs": []
    },
    {
      "cell_type": "code",
      "source": [
        "len(article_text) # now after cleaning of the data the len is reduced to 44895 from 47549 removing all the non required things."
      ],
      "metadata": {
        "id": "0rl5XbcfvGFi"
      },
      "execution_count": null,
      "outputs": []
    },
    {
      "cell_type": "code",
      "source": [
        "# ngram length\n",
        "n = 5\n",
        "ngrams = {}\n",
        "\n",
        "for i in range(len(article_text)-n):    \n",
        "    seq = article_text[i:i+n]\n",
        "    \n",
        "    # insert in dictionary as key\n",
        "    if seq not in ngrams.keys():\n",
        "        # prepare empty list to insert next possible chars\n",
        "        ngrams[seq] = []\n",
        "\n",
        "    # push a next character\n",
        "    ngrams[seq].append(article_text[i+n])"
      ],
      "metadata": {
        "id": "_y7G4zl6vGDC"
      },
      "execution_count": null,
      "outputs": []
    },
    {
      "cell_type": "code",
      "source": [
        "list(ngrams.items())[:2]"
      ],
      "metadata": {
        "id": "GizvZopgvF_g"
      },
      "execution_count": null,
      "outputs": []
    },
    {
      "cell_type": "code",
      "source": [
        "search_sequence = article_text[0:n]\n",
        "output = search_sequence\n",
        "\n",
        "# max chars in obtained suggestion\n",
        "suggestion_len = 100\n",
        "\n",
        "for i in range(suggestion_len):\n",
        "    # break, if search sequence is not present in prepared ngram dictionary\n",
        "    if search_sequence not in ngrams.keys():\n",
        "        break\n",
        "        \n",
        "    # if ngram key is available, then find the list of next possible characters\n",
        "    possible_chars = ngrams[search_sequence]\n",
        "    print(f'possible_chars:{possible_chars}')\n",
        "    \n",
        "    # Randomly select the next possbile character, most common will have more chances\n",
        "    next_char = possible_chars[random.randrange(len(possible_chars))]\n",
        "    print(f'next_char:{next_char}')\n",
        "    \n",
        "    # Update the suggestion output\n",
        "    output += next_char\n",
        "    print(f'updated complete suggestion: {output}')\n",
        "    \n",
        "    # update the search sequence now, excluding first char as we move forward\n",
        "    search_sequence = output[len(output)-n:len(output)]"
      ],
      "metadata": {
        "id": "Gf7FyKQwvF4L"
      },
      "execution_count": null,
      "outputs": []
    },
    {
      "cell_type": "code",
      "source": [
        "print(f'Search sequence: ',article_text[0:n])\n",
        "print(f'\\nSuggestion: {output}')"
      ],
      "metadata": {
        "id": "BKpOOKE7vFw3"
      },
      "execution_count": null,
      "outputs": []
    },
    {
      "cell_type": "code",
      "source": [
        "import nltk\n",
        "nltk.download('punkt')"
      ],
      "metadata": {
        "id": "JkBezh-Jvghr"
      },
      "execution_count": null,
      "outputs": []
    },
    {
      "cell_type": "code",
      "source": [
        "# Here the prediction is based on the words and not on the characters.\n",
        "\n",
        "ngrams = {}\n",
        "words = 3\n",
        "\n",
        "# Word Tokenization\n",
        "words_tokens = nltk.word_tokenize(article_text)\n",
        "\n",
        "# Iterate over words tokens\n",
        "for i in range(len(words_tokens)-words):\n",
        "    # incrementaly find ngram word sequences  \n",
        "    seq = ' '.join(words_tokens[i:i+words])\n",
        "    print(seq)\n",
        "\n",
        "    # insert in dictionary as key\n",
        "    if  seq not in ngrams.keys():\n",
        "        # prepare empty list to insert next possible chars\n",
        "        ngrams[seq] = []\n",
        "\n",
        "    # push a next word\n",
        "    ngrams[seq].append(words_tokens[i+words])"
      ],
      "metadata": {
        "id": "s8XqsmA8vge3"
      },
      "execution_count": null,
      "outputs": []
    },
    {
      "cell_type": "code",
      "source": [
        "list(ngrams.items())[:20]"
      ],
      "metadata": {
        "id": "JIMmq0z-vgb_"
      },
      "execution_count": null,
      "outputs": []
    },
    {
      "cell_type": "code",
      "source": [
        "search_sequence = ' '.join(words_tokens[0:words])\n",
        "\n",
        "# init the suggestion output\n",
        "output = search_sequence\n",
        "\n",
        "# lenth of max words in obtained suggestion\n",
        "for i in range(50):\n",
        "    if search_sequence not in ngrams.keys():\n",
        "        break\n",
        "    \n",
        "    # if ngram key is available, then find the list of next possible characters\n",
        "    possible_words = ngrams[search_sequence]\n",
        "    \n",
        "    # Randomly select the next possbile character, most common will have more chances\n",
        "    next_word = possible_words[random.randrange(len(possible_words))]\n",
        "    print(next_word)\n",
        "\n",
        "    # Update the suggestion output\n",
        "    output += ' ' + next_word\n",
        "    seq_words = nltk.word_tokenize(output)\n",
        "\n",
        "    # update the search sequence now, excluding first char as we move forward\n",
        "    search_sequence = ' '.join(seq_words[len(seq_words)-words:len(seq_words)])"
      ],
      "metadata": {
        "id": "V33_uIN-vgYu"
      },
      "execution_count": null,
      "outputs": []
    },
    {
      "cell_type": "code",
      "source": [
        "print(f'Search sequence: ',' '.join(words_tokens[0:words]))\n",
        "print(f'\\nSuggestion: {output}')"
      ],
      "metadata": {
        "id": "BQflKiyCvgVp"
      },
      "execution_count": null,
      "outputs": []
    },
    {
      "cell_type": "code",
      "source": [],
      "metadata": {
        "id": "CODkOfy4vgS4"
      },
      "execution_count": null,
      "outputs": []
    }
  ]
}