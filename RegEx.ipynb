{
  "nbformat": 4,
  "nbformat_minor": 0,
  "metadata": {
    "colab": {
      "provenance": []
    },
    "kernelspec": {
      "name": "python3",
      "display_name": "Python 3"
    },
    "language_info": {
      "name": "python"
    }
  },
  "cells": [
    {
      "cell_type": "code",
      "execution_count": null,
      "metadata": {
        "colab": {
          "base_uri": "https://localhost:8080/"
        },
        "id": "-gOIHy1XE1Ww",
        "outputId": "74a8cda2-9a00-4163-e516-9f0f0fa7d499"
      },
      "outputs": [
        {
          "output_type": "stream",
          "name": "stdout",
          "text": [
            "pattern found\n"
          ]
        }
      ],
      "source": [
        "# RE-:regular expression specifies a set of string that matches it,the function in this module.\n",
        "import re\n",
        "#search() is used for looking the same pattern\n",
        "text=\"Today is a rainy day\"\n",
        "if re.search(\"rainy\",text):\n",
        "    print(\"pattern found\")\n",
        "    \n",
        "else:\n",
        "    print(\"pattern not found\")"
      ]
    },
    {
      "cell_type": "code",
      "source": [
        "#split()---it is used to create a pattern in form of list of substring\n",
        "user=\"my email id is bhumikachaudhari@gmail.com\"\n",
        "print(\"domain is \",re.split('@',user)[-1]) #-1 is used to find the last index and domain is always found at last index\n",
        "re.split('@',user)  # here the pattern will be created from @ symbol from there the pattern will break and new will form"
      ],
      "metadata": {
        "colab": {
          "base_uri": "https://localhost:8080/"
        },
        "id": "ZDPmDFuGFMoJ",
        "outputId": "4bc4a8fe-5d8d-4374-a3ce-7ac606dc61b5"
      },
      "execution_count": null,
      "outputs": [
        {
          "output_type": "stream",
          "name": "stdout",
          "text": [
            "domain is  gmail.com\n"
          ]
        },
        {
          "output_type": "execute_result",
          "data": {
            "text/plain": [
              "['my email id is bhumikachaudhari', 'gmail.com']"
            ]
          },
          "metadata": {},
          "execution_count": 2
        }
      ]
    },
    {
      "cell_type": "code",
      "source": [
        "#findall()----will find out the pattern and return its occurences\n",
        "t1='bhagyashri is very shy girl,bhagyashri dont talk much,bhagyashri loves to do drawing'\n",
        "print(\"we talked\",len(re.findall('bhagyashri',t1)),\"time about bhagyashri\")\n",
        "len(re.findall('bhagyashri',t1))"
      ],
      "metadata": {
        "colab": {
          "base_uri": "https://localhost:8080/"
        },
        "id": "XjBhsd6gFS6I",
        "outputId": "04958277-7471-449f-afda-e9f8afc84c89"
      },
      "execution_count": null,
      "outputs": [
        {
          "output_type": "stream",
          "name": "stdout",
          "text": [
            "we talked 3 time about bhagyashri\n"
          ]
        },
        {
          "output_type": "execute_result",
          "data": {
            "text/plain": [
              "3"
            ]
          },
          "metadata": {},
          "execution_count": 3
        }
      ]
    },
    {
      "cell_type": "code",
      "source": [
        "# ^--cater symbol if it is before the string then it means at the starting\n",
        "# $--dollar symbol if it is before the string then it means at the end of the string\n",
        "text2=\"RE stands for regular expression\"\n",
        "if re.search(\"^RE\",text2):\n",
        "    print(\"present at the start\")\n",
        "else:\n",
        "    print(\"present at the end of the string\")"
      ],
      "metadata": {
        "colab": {
          "base_uri": "https://localhost:8080/"
        },
        "id": "IaBOprRBFlSJ",
        "outputId": "f5ac36e7-d357-4124-f6c1-4dbac36bd255"
      },
      "execution_count": null,
      "outputs": [
        {
          "output_type": "stream",
          "name": "stdout",
          "text": [
            "present at the start\n"
          ]
        }
      ]
    },
    {
      "cell_type": "code",
      "source": [
        "#Replace all white-space characters with the digit \"9\":\n",
        "\n",
        "txt = \"The notebook is not very clear\"\n",
        "x = re.sub(\"\\s\", \"9\", txt)\n",
        "print(x)\n"
      ],
      "metadata": {
        "colab": {
          "base_uri": "https://localhost:8080/"
        },
        "id": "ezrIDCYGFqWg",
        "outputId": "dafb505c-08a9-4e64-afdb-c290f803ec2c"
      },
      "execution_count": null,
      "outputs": [
        {
          "output_type": "stream",
          "name": "stdout",
          "text": [
            "The9notebook9is9not9very9clear\n"
          ]
        }
      ]
    },
    {
      "cell_type": "code",
      "source": [
        "txt = \"hello my name is bhagyashri\"\n",
        "#Search for a sequence that starts with \"he\", followed by two (any) characters, and an \"o\":\n",
        "x = re.findall(\"he..o\", txt)\n",
        "print(x)"
      ],
      "metadata": {
        "colab": {
          "base_uri": "https://localhost:8080/"
        },
        "id": "3zNK3tuGFx4g",
        "outputId": "9eb6dd32-e55d-4ad6-a7b9-cc2af0c3fcf4"
      },
      "execution_count": null,
      "outputs": [
        {
          "output_type": "stream",
          "name": "stdout",
          "text": [
            "['hello']\n"
          ]
        }
      ]
    },
    {
      "cell_type": "code",
      "source": [
        "txt = \"hello i m green\"\n",
        "#Search for a sequence that starts with \"he\", followed by 0 or more  (any) characters, and an \"o\":\n",
        "x1 = re.findall(\"he.*o\", txt)\n",
        "#Search for a sequence that starts with \"he\", followed by 1 or more  (any) characters, and an \"o\":\n",
        "x2 = re.findall(\"he.+o\", txt)\n",
        "#Search for a sequence that starts with \"he\", followed by 0 or 1  (any) character, and an \"o\":\n",
        "x3 = re.findall(\"he.?o\", txt)\n",
        "print(x1)\n",
        "print(x2)\n",
        "print(x3)\n"
      ],
      "metadata": {
        "colab": {
          "base_uri": "https://localhost:8080/"
        },
        "id": "DT-jGzLFF1lX",
        "outputId": "6cf4bea6-126a-49ac-d238-b9a23daac7f8"
      },
      "execution_count": null,
      "outputs": [
        {
          "output_type": "stream",
          "name": "stdout",
          "text": [
            "['hello']\n",
            "['hello']\n",
            "[]\n"
          ]
        }
      ]
    },
    {
      "cell_type": "code",
      "source": [
        "txt = \"hello how are you?\"\n",
        "#Search for a sequence that starts with \"he\", followed excactly 2 (any) characters, and an \"o\":\n",
        "x = re.findall(\"he.{2}o\", txt)\n",
        "print(x)"
      ],
      "metadata": {
        "colab": {
          "base_uri": "https://localhost:8080/"
        },
        "id": "v-TOH5jrF4R4",
        "outputId": "80f3b604-15d4-4910-f792-b5039de92725"
      },
      "execution_count": null,
      "outputs": [
        {
          "output_type": "stream",
          "name": "stdout",
          "text": [
            "['hello']\n"
          ]
        }
      ]
    },
    {
      "cell_type": "code",
      "source": [
        "txt = \"heavy rainfall is going on in the mumbai\"\n",
        "#Check if the string contains either \"falls\" or \"stays\" if even one is present it will return it\n",
        "x = re.findall(\"rainfall|mumbai\", txt)\n",
        "# x = re.findall(\"sun|mumbai\", txt)\n",
        "print(x)"
      ],
      "metadata": {
        "colab": {
          "base_uri": "https://localhost:8080/"
        },
        "id": "1Wu5GLIdF5JX",
        "outputId": "804b5fa7-8d81-4b22-dc0a-0c0f6ee3f9f6"
      },
      "execution_count": null,
      "outputs": [
        {
          "output_type": "stream",
          "name": "stdout",
          "text": [
            "['rainfall', 'mumbai']\n"
          ]
        }
      ]
    },
    {
      "cell_type": "code",
      "source": [
        "txt = \"The monkey is climbing on tree\" #Check if the string starts with \"The\":\n",
        "x1 = re.findall(\"\\AThe\", txt)\n",
        "#Check if \"ing\" is present at the beginning of a WORD:\n",
        "x2 = re.findall(r\"\\bing\", txt) # can also be written as x = re.findall(r\"ing\\B\", txt)\n",
        "#Check if \"ing\" is present at the end of a WORD:\n",
        "x3 = re.findall(r\"ing\\b\", txt) # can also be written as x = re.findall(r\"\\Bing\", txt)\n",
        "print(x1)\n",
        "print(x2)\n",
        "print(x3)"
      ],
      "metadata": {
        "colab": {
          "base_uri": "https://localhost:8080/"
        },
        "id": "jIJoZUDhGCGY",
        "outputId": "d32804ac-4e3f-45a8-a9fd-313fbcec280d"
      },
      "execution_count": null,
      "outputs": [
        {
          "output_type": "stream",
          "name": "stdout",
          "text": [
            "['The']\n",
            "[]\n",
            "['ing']\n"
          ]
        }
      ]
    },
    {
      "cell_type": "code",
      "source": [
        "grades=\"AADSBHGHHIAUYTRRR\"\n",
        "l=len(re.findall('A',grades))  # want to find the number of a in string\n",
        "x1=re.findall(\"[AD]\",grades) # number of times A and D is there\n",
        "x2=re.findall(\"[A][D-U]\",grades) # return a followed by either D OR U\n",
        "x3=re.findall(\"AD|AU\",grades) # return combinations of AD and AU\n",
        "x4=re.findall(\"[^A]\",grades) # return the characters that are not A\n",
        "print(l)\n",
        "print(x1)\n",
        "print(x2)\n",
        "print(x3)\n",
        "print(x4)\n"
      ],
      "metadata": {
        "colab": {
          "base_uri": "https://localhost:8080/"
        },
        "id": "Pnk7AzQPGMAg",
        "outputId": "fcc49e2c-6008-4fe6-9fff-3b20723a7e2f"
      },
      "execution_count": null,
      "outputs": [
        {
          "output_type": "stream",
          "name": "stdout",
          "text": [
            "3\n",
            "['A', 'A', 'D', 'A']\n",
            "['AD', 'AU']\n",
            "['AD', 'AU']\n",
            "['D', 'S', 'B', 'H', 'G', 'H', 'H', 'I', 'U', 'Y', 'T', 'R', 'R', 'R']\n"
          ]
        }
      ]
    },
    {
      "cell_type": "code",
      "source": [
        "#quantifiers----the number of times you want to find the pattern.it is in the form of e{m,n} here,\n",
        "# e--- the pattern we want to find\n",
        "#m-----minimum number of times you want it\n",
        "#n-----maximum number of times you want it\n",
        "\n",
        "grades=\"ADBHAADFBHAAAGG\"\n",
        "re.findall(\"A{1,3}\",grades) # here e=A m=1 n=3"
      ],
      "metadata": {
        "colab": {
          "base_uri": "https://localhost:8080/"
        },
        "id": "f-uAU3f-Gp1I",
        "outputId": "4ce74a2e-35a2-4fe6-aeb3-34b5eb7eba51"
      },
      "execution_count": null,
      "outputs": [
        {
          "output_type": "execute_result",
          "data": {
            "text/plain": [
              "['A', 'AA', 'AAA']"
            ]
          },
          "metadata": {},
          "execution_count": 13
        }
      ]
    },
    {
      "cell_type": "code",
      "source": [
        "re.findall(\"AD{1,2}\",grades) # if we give only m or n then it becomes m=n like {2} then m=2 and n=2"
      ],
      "metadata": {
        "colab": {
          "base_uri": "https://localhost:8080/"
        },
        "id": "nVlRmtXIGuIo",
        "outputId": "dc4555a3-87b8-4e1f-f3c8-4c9d4a24ba43"
      },
      "execution_count": null,
      "outputs": [
        {
          "output_type": "execute_result",
          "data": {
            "text/plain": [
              "['AD', 'AD']"
            ]
          },
          "metadata": {},
          "execution_count": 14
        }
      ]
    },
    {
      "cell_type": "code",
      "source": [
        "re.findall(\"A{1,3}D{1,2}\",grades)"
      ],
      "metadata": {
        "colab": {
          "base_uri": "https://localhost:8080/"
        },
        "id": "INRrVOxuGw6g",
        "outputId": "332b53e2-e9da-40d5-ee0e-8ca099faf302"
      },
      "execution_count": null,
      "outputs": [
        {
          "output_type": "execute_result",
          "data": {
            "text/plain": [
              "['AD', 'AAD']"
            ]
          },
          "metadata": {},
          "execution_count": 15
        }
      ]
    },
    {
      "cell_type": "code",
      "source": [
        "str=\"hi this is indian phone number 8059101234 and this is usa number (409)-987-9876\"\n",
        "pattern=\"\\d{10}|\\(\\d{3}\\)-\\d{3}-\\d{4}\"\n",
        "re.findall(pattern,str)"
      ],
      "metadata": {
        "colab": {
          "base_uri": "https://localhost:8080/"
        },
        "id": "JBJ7pm67Gzhg",
        "outputId": "0903dd30-dc11-4dd2-9a53-af149904c8d8"
      },
      "execution_count": null,
      "outputs": [
        {
          "output_type": "execute_result",
          "data": {
            "text/plain": [
              "['8059101234', '(409)-987-9876']"
            ]
          },
          "metadata": {},
          "execution_count": 16
        }
      ]
    },
    {
      "cell_type": "code",
      "source": [
        "str1=\";:,bhumik;:a;chau,dhari\"\n",
        "pattern=\"[^;:,]+\"  #here + is used to find match for one or more character if we dont add a then list of individual character will be made\n",
        "re.findall(pattern,str1)"
      ],
      "metadata": {
        "colab": {
          "base_uri": "https://localhost:8080/"
        },
        "id": "TWiKQaknG6Wp",
        "outputId": "fc217e8f-5434-4afb-887d-487b36f1fed9"
      },
      "execution_count": null,
      "outputs": [
        {
          "output_type": "execute_result",
          "data": {
            "text/plain": [
              "['bhumik', 'a', 'chau', 'dhari']"
            ]
          },
          "metadata": {},
          "execution_count": 20
        }
      ]
    },
    {
      "cell_type": "code",
      "source": [
        "str4=\"company ABC FY2021 Q1 result is 10cr,FY2021 Q2 result is 15cr,FY2022 Q3 result is 5cr\"\n",
        "pattern=\"FY\\d{4} Q[1-4]\"\n",
        "pattern1=\"\\d{1,9}cr\"\n",
        "s1=re.findall(pattern,str4)\n",
        "s2=re.findall(pattern1,str4)\n",
        "print(s1)\n",
        "print(s2)"
      ],
      "metadata": {
        "colab": {
          "base_uri": "https://localhost:8080/"
        },
        "id": "XIgDUx0OHCJo",
        "outputId": "3a0c8489-b735-479c-a93e-768c1c8aa98e"
      },
      "execution_count": null,
      "outputs": [
        {
          "output_type": "stream",
          "name": "stdout",
          "text": [
            "['FY2021 Q1', 'FY2021 Q2', 'FY2022 Q3']\n",
            "['10cr', '15cr', '5cr']\n"
          ]
        }
      ]
    }
  ]
}